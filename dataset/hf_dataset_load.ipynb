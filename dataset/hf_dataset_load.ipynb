{
 "cells": [
  {
   "cell_type": "code",
   "execution_count": null,
   "id": "21dabb0f-27ec-4156-9720-67e179235751",
   "metadata": {
    "scrolled": true
   },
   "outputs": [],
   "source": [
    "pip install datasets"
   ]
  },
  {
   "cell_type": "code",
   "execution_count": null,
   "id": "5664018f-74c4-4bb7-aa82-97b74fe409c1",
   "metadata": {
    "scrolled": true
   },
   "outputs": [],
   "source": [
    "pip install huggingface_hub"
   ]
  },
  {
   "cell_type": "code",
   "execution_count": null,
   "id": "e6b42450-5297-4d5b-8d07-2b5662aa941f",
   "metadata": {},
   "outputs": [],
   "source": [
    "pip install ipywidgets"
   ]
  },
  {
   "cell_type": "code",
   "execution_count": null,
   "id": "e1af916d-be07-4fe0-8fe8-be3d23c8fdab",
   "metadata": {},
   "outputs": [],
   "source": [
    "from huggingface_hub import login\n",
    "from datasets import Dataset\n",
    "login()"
   ]
  },
  {
   "cell_type": "code",
   "execution_count": null,
   "id": "69e391bc-8c43-478d-93bc-205b9b97c810",
   "metadata": {},
   "outputs": [],
   "source": [
    "import json\n",
    "\n",
    "qa_pair = []\n",
    "\n",
    "# JSONL 파일 읽기\n",
    "with open('dataset.jsonl', 'r', encoding='utf-8') as infile:\n",
    "    lines = infile.readlines()\n",
    "\n",
    "# 각 줄을 JSON으로 파싱하고 리스트에 추가\n",
    "for line in lines:\n",
    "    qa_pair.append(json.loads(line.strip()))"
   ]
  },
  {
   "cell_type": "code",
   "execution_count": null,
   "id": "77f08372-9c35-4fe4-9f41-57d5c58402b9",
   "metadata": {},
   "outputs": [],
   "source": [
    "qa_pair"
   ]
  },
  {
   "cell_type": "code",
   "execution_count": null,
   "id": "e24797ce-31fb-4a53-af08-4fdd3294bba0",
   "metadata": {},
   "outputs": [],
   "source": [
    "# set the llm dataset format\n",
    "with open('qa_pair.jsonl', 'w', encoding='utf-8') as f:\n",
    "    for qa in qa_pair:\n",
    "        qa_modified = {\n",
    "            'instruction' : qa['question'],\n",
    "            'input' : '',\n",
    "            'output' : qa['answer'],\n",
    "        }\n",
    "        f.write(json.dumps(qa_modified, ensure_ascii=False) + '\\n')"
   ]
  },
  {
   "cell_type": "code",
   "execution_count": null,
   "id": "6a7aed41-78ca-4f87-9743-768224414a5c",
   "metadata": {},
   "outputs": [],
   "source": [
    "# change the value to string format\n",
    "import json\n",
    "\n",
    "input_file = '/root/uyuni/rlqja8407/data/dataset/qa_pair.jsonl'\n",
    "output_file = '/root/uyuni/rlqja8407/data/dataset/qa_pair_corrected.jsonl'\n",
    "\n",
    "def correct_type(value):\n",
    "    if not isinstance(value, str):\n",
    "        return str(value)\n",
    "    return value\n",
    "\n",
    "with open(input_file, 'r') as infile, open(output_file, 'w') as outfile:\n",
    "    for line in infile:\n",
    "        try:\n",
    "            data = json.loads(line)\n",
    "            data['instruction'] = correct_type(data.get('instruction'))\n",
    "            data['input'] = correct_type(data.get('input'))\n",
    "            data['output'] = correct_type(data.get('output'))\n",
    "            json.dump(data, outfile, ensure_ascii=False)\n",
    "            outfile.write('\\n')\n",
    "        except json.JSONDecodeError as e:\n",
    "            print(f\"JSON 디코딩 오류: {e}\")\n",
    "            continue\n",
    "\n",
    "print(f\"수정된 파일이 {output_file}로 저장되었습니다.\")"
   ]
  },
  {
   "cell_type": "code",
   "execution_count": null,
   "id": "ae041962-c1ed-486c-bedd-9f2bea557cc1",
   "metadata": {},
   "outputs": [],
   "source": [
    "import os\n",
    "\n",
    "# json file path\n",
    "jsonl_file = os.getcwd() + '/qa_pair.jsonl'\n",
    "print(os.path.exists(jsonl_file))"
   ]
  },
  {
   "cell_type": "code",
   "execution_count": null,
   "id": "00663e67-0eda-4612-bdbd-a2dd4a0ef601",
   "metadata": {},
   "outputs": [],
   "source": [
    "from datasets import load_dataset\n",
    "\n",
    "# load jsonl file for dataset\n",
    "dataset = load_dataset('json', data_files=jsonl_file)"
   ]
  },
  {
   "cell_type": "code",
   "execution_count": null,
   "id": "3017b794-b0ad-4a80-b87b-b76c8a147343",
   "metadata": {},
   "outputs": [],
   "source": [
    "dataset"
   ]
  },
  {
   "cell_type": "code",
   "execution_count": null,
   "id": "47f7cd32-2862-469c-a47b-82de0a3374a8",
   "metadata": {},
   "outputs": [],
   "source": [
    "import configparser\n",
    "\n",
    "config = configparser.ConfigParser()\n",
    "config.read('config.ini')\n",
    "api_key = config['HUGGINGFACEHUB']['API_TOKEN']"
   ]
  },
  {
   "cell_type": "code",
   "execution_count": null,
   "id": "589a8c24-a409-4bad-9527-f8269799a6bf",
   "metadata": {},
   "outputs": [],
   "source": [
    "api_key"
   ]
  },
  {
   "cell_type": "code",
   "execution_count": null,
   "id": "f665c172-4cd1-4834-98db-01baeb90e2ff",
   "metadata": {},
   "outputs": [],
   "source": [
    "from huggingface_hub import HfApi\n",
    "\n",
    "# Generate HfApi instance\n",
    "api = HfApi()\n",
    "\n",
    "repository = 'KB8407/DOKDO'\n",
    "\n",
    "dataset.push_to_hub(repository, token=api_key)"
   ]
  },
  {
   "cell_type": "code",
   "execution_count": null,
   "id": "d685fbd7-5e62-49b9-b96e-60b824a3fdeb",
   "metadata": {},
   "outputs": [],
   "source": []
  }
 ],
 "metadata": {
  "kernelspec": {
   "display_name": "Python (langchain-kr)",
   "language": "python",
   "name": "langchain-kr"
  },
  "language_info": {
   "codemirror_mode": {
    "name": "ipython",
    "version": 3
   },
   "file_extension": ".py",
   "mimetype": "text/x-python",
   "name": "python",
   "nbconvert_exporter": "python",
   "pygments_lexer": "ipython3",
   "version": "3.11.9"
  }
 },
 "nbformat": 4,
 "nbformat_minor": 5
}
